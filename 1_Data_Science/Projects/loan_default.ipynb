{
 "cells": [
  {
   "cell_type": "code",
   "execution_count": 1,
   "metadata": {
    "collapsed": true
   },
   "outputs": [],
   "source": [
    "import numpy as np"
   ]
  },
  {
   "cell_type": "code",
   "execution_count": 2,
   "metadata": {
    "collapsed": true
   },
   "outputs": [],
   "source": [
    "import pandas as pd"
   ]
  },
  {
   "cell_type": "code",
   "execution_count": 3,
   "metadata": {},
   "outputs": [
    {
     "name": "stderr",
     "output_type": "stream",
     "text": [
      "C:\\Users\\devendra.arya\\AppData\\Local\\Continuum\\anaconda2\\lib\\site-packages\\IPython\\core\\interactiveshell.py:2718: DtypeWarning: Columns (19,55) have mixed types. Specify dtype option on import or set low_memory=False.\n",
      "  interactivity=interactivity, compiler=compiler, result=result)\n"
     ]
    }
   ],
   "source": [
    "df=pd.read_csv('loan.csv')"
   ]
  },
  {
   "cell_type": "code",
   "execution_count": 5,
   "metadata": {},
   "outputs": [
    {
     "data": {
      "text/plain": [
       "Index([u'id', u'member_id', u'loan_amnt', u'funded_amnt', u'funded_amnt_inv',\n",
       "       u'term', u'int_rate', u'installment', u'grade', u'sub_grade',\n",
       "       u'emp_title', u'emp_length', u'home_ownership', u'annual_inc',\n",
       "       u'verification_status', u'issue_d', u'loan_status', u'pymnt_plan',\n",
       "       u'url', u'desc', u'purpose', u'title', u'zip_code', u'addr_state',\n",
       "       u'dti', u'delinq_2yrs', u'earliest_cr_line', u'inq_last_6mths',\n",
       "       u'mths_since_last_delinq', u'mths_since_last_record', u'open_acc',\n",
       "       u'pub_rec', u'revol_bal', u'revol_util', u'total_acc',\n",
       "       u'initial_list_status', u'out_prncp', u'out_prncp_inv', u'total_pymnt',\n",
       "       u'total_pymnt_inv', u'total_rec_prncp', u'total_rec_int',\n",
       "       u'total_rec_late_fee', u'recoveries', u'collection_recovery_fee',\n",
       "       u'last_pymnt_d', u'last_pymnt_amnt', u'next_pymnt_d',\n",
       "       u'last_credit_pull_d', u'collections_12_mths_ex_med',\n",
       "       u'mths_since_last_major_derog', u'policy_code', u'application_type',\n",
       "       u'annual_inc_joint', u'dti_joint', u'verification_status_joint',\n",
       "       u'acc_now_delinq', u'tot_coll_amt', u'tot_cur_bal', u'open_acc_6m',\n",
       "       u'open_il_6m', u'open_il_12m', u'open_il_24m', u'mths_since_rcnt_il',\n",
       "       u'total_bal_il', u'il_util', u'open_rv_12m', u'open_rv_24m',\n",
       "       u'max_bal_bc', u'all_util', u'total_rev_hi_lim', u'inq_fi',\n",
       "       u'total_cu_tl', u'inq_last_12m'],\n",
       "      dtype='object')"
      ]
     },
     "execution_count": 5,
     "metadata": {},
     "output_type": "execute_result"
    }
   ],
   "source": [
    "df.columns"
   ]
  },
  {
   "cell_type": "code",
   "execution_count": 23,
   "metadata": {},
   "outputs": [
    {
     "data": {
      "text/plain": [
       "0          36 months\n",
       "1          60 months\n",
       "2          36 months\n",
       "3          36 months\n",
       "4          60 months\n",
       "5          36 months\n",
       "6          60 months\n",
       "7          36 months\n",
       "8          60 months\n",
       "9          60 months\n",
       "10         60 months\n",
       "11         36 months\n",
       "12         36 months\n",
       "13         36 months\n",
       "14         36 months\n",
       "15         36 months\n",
       "16         36 months\n",
       "17         36 months\n",
       "18         36 months\n",
       "19         36 months\n",
       "20         60 months\n",
       "21         36 months\n",
       "22         36 months\n",
       "23         36 months\n",
       "24         36 months\n",
       "25         36 months\n",
       "26         36 months\n",
       "27         60 months\n",
       "28         36 months\n",
       "29         36 months\n",
       "             ...    \n",
       "887349     36 months\n",
       "887350     60 months\n",
       "887351     36 months\n",
       "887352     36 months\n",
       "887353     60 months\n",
       "887354     36 months\n",
       "887355     36 months\n",
       "887356     60 months\n",
       "887357     60 months\n",
       "887358     60 months\n",
       "887359     60 months\n",
       "887360     60 months\n",
       "887361     36 months\n",
       "887362     36 months\n",
       "887363     36 months\n",
       "887364     36 months\n",
       "887365     36 months\n",
       "887366     36 months\n",
       "887367     36 months\n",
       "887368     60 months\n",
       "887369     36 months\n",
       "887370     36 months\n",
       "887371     36 months\n",
       "887372     36 months\n",
       "887373     36 months\n",
       "887374     36 months\n",
       "887375     36 months\n",
       "887376     60 months\n",
       "887377     60 months\n",
       "887378     36 months\n",
       "Name: term, Length: 887379, dtype: object"
      ]
     },
     "execution_count": 23,
     "metadata": {},
     "output_type": "execute_result"
    }
   ],
   "source": [
    "# df['addr_state'] #The state provided by the borrower in the loan application\n",
    "# df['annual_inc'] #The self-reported annual income provided by the borrower during registration.\n",
    "# df['dti'] #A ratio calculated using the borrower’s total monthly debt payments on the total debt obligations, excluding mortgage and the requested LC loan, divided by the borrower’s self-reported monthly income.\n",
    "# df['emp_length'] #Employment length in years. Possible values are between 0 and 10 where 0 means less than one year and 10 means ten or more years. \n",
    "# df['home_ownership'] #The home ownership status provided by the borrower during registration. Our values are: RENT, OWN, MORTGAGE, OTHER.\n",
    "df['term'] #The number of payments on the loan. Values are in months and can be either 36 or 60.\n",
    "#df['loan_amnt'] #The listed amount of the loan applied for by the borrower. If at some point in time, the credit department reduces the loan amount, then it will be reflected in this value.\n",
    "# df['total_acc'] #The total number of credit lines currently in the borrower's credit file\n",
    "# df['open_acc'] #The number of open credit lines in the borrower's credit file.\n",
    "# df['pub_rec'] #Number of derogatory public records\n",
    "# df['purpose'] #A category provided by the borrower for the loan request. \n",
    "# df['loan_status'] #Current status of the loan"
   ]
  },
  {
   "cell_type": "code",
   "execution_count": null,
   "metadata": {
    "collapsed": true
   },
   "outputs": [],
   "source": []
  }
 ],
 "metadata": {
  "kernelspec": {
   "display_name": "Python 2",
   "language": "python",
   "name": "python2"
  },
  "language_info": {
   "codemirror_mode": {
    "name": "ipython",
    "version": 2
   },
   "file_extension": ".py",
   "mimetype": "text/x-python",
   "name": "python",
   "nbconvert_exporter": "python",
   "pygments_lexer": "ipython2",
   "version": "2.7.14"
  }
 },
 "nbformat": 4,
 "nbformat_minor": 2
}
