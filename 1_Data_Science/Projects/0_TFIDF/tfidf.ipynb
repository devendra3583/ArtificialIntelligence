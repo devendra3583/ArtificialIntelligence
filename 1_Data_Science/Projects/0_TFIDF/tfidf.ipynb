{
 "cells": [
  {
   "cell_type": "code",
   "execution_count": 1,
   "metadata": {
    "collapsed": true
   },
   "outputs": [],
   "source": [
    "import nltk"
   ]
  },
  {
   "cell_type": "code",
   "execution_count": 2,
   "metadata": {
    "collapsed": true
   },
   "outputs": [],
   "source": [
    "str1 = 'This is Computer Science'"
   ]
  },
  {
   "cell_type": "code",
   "execution_count": 3,
   "metadata": {
    "collapsed": true
   },
   "outputs": [],
   "source": [
    "str2 = 'This is Electrical Engineering'"
   ]
  },
  {
   "cell_type": "code",
   "execution_count": 4,
   "metadata": {
    "collapsed": true
   },
   "outputs": [],
   "source": [
    "str3 = 'This is Mechanical Engineering'"
   ]
  },
  {
   "cell_type": "code",
   "execution_count": 7,
   "metadata": {
    "collapsed": true
   },
   "outputs": [],
   "source": [
    "query = 'This is Chemical Engineering'"
   ]
  },
  {
   "cell_type": "code",
   "execution_count": 6,
   "metadata": {
    "collapsed": true
   },
   "outputs": [],
   "source": [
    "stopwords=['all','just','less','being','indeed','over','move','anyway','four','not','own','through','using','fifty','where','mill',\n",
    "'only','find','before','one','whose','how','somewhere','much','thick','show','had','enough','should','to','must','whom','seeming','yourselves',\n",
    "'under','ours','two','has','might','thereafter','latterly','do','them','his','around','than','get','very','de','none','cannot','every','un',\n",
    "'they','front','during','thus','now','him','nor','name','regarding','several','hereafter','did','always','who','didn','whither','this','someone',\n",
    "'either','each','become','thereupon','sometime','side','towards','therein','twelve','because','often','ten','our','doing','km','eg','some','back',\n",
    "'used','up','go','namely','computer','are','further','beyond','ourselves','yet','out','even','will','what','still','for','bottom','mine','since',\n",
    "'please','forty','per','its','everything','behind','does','various','above','between','it','neither','seemed','ever','across','she','somehow','be',\n",
    "'we','full','never','sixty','however','here','otherwise','were','whereupon','nowhere','although','found','alone','re','along','quite','fifteen','by',\n",
    "'both','about','last','would','anything','via','many','could','thence','put','against','keep','etc','amount','became','hence','onto','or','con',\n",
    "'among','already','co','afterwards','formerly','within','seems','into','others','while','whatever','except','down','hers','everyone','done','least',\n",
    "'another','whoever','moreover','couldnt','throughout','anyhow','yourself','three','from','her','few','together','top','there','due','been','next',\n",
    "'anyone','eleven','call','therefore','then','thru','themselves','hundred','really','sincere','empty','more','himself','elsewhere','mostly','on','am',\n",
    "'becoming','hereby','amongst','else','everywhere','too','herself','former','those','he','me','myself','made','twenty','these','was','cant','us',\n",
    "'until','besides','nevertheless','below','anywhere','nine','can','whether','of','your','toward','my','say','something','and','whereafter',\n",
    "'whenever','give','almost','wherever','is','describe','beforehand','herein','doesn','an','as','itself','at','have','in','seem','whence','ie','any',\n",
    "'again','hasnt','thereby','no','perhaps','latter','meanwhile','when','detail','same','wherein','beside','also','that','other','take',\n",
    "'which','becomes','you','if','nobody','unless','whereas','see','though','may','after','upon','most','hereupon','but','serious','nothing',\n",
    "'such','why','off','a','whereby',\n",
    "'third','i','whole','noone','sometimes','amongst','yours','their','rather','without','so','five','the','with','once','']"
   ]
  },
  {
   "cell_type": "code",
   "execution_count": 8,
   "metadata": {
    "collapsed": true
   },
   "outputs": [],
   "source": [
    "def lowercase(l): #converts string to lowercase\n",
    "    return l.lower()\n",
    "def splitstr(l):\n",
    "    return l.split() #'God is great' returns ['God', 'is', 'great']\n",
    "def remove_stopwords(tokens):#tokens is a list of words\n",
    "    out=[]\n",
    "    for token in tokens:\n",
    "        if token not in stopwords:\n",
    "            out+=[token] #append to out\n",
    "    return out\n",
    "def assemble(tokens):  #TAKES A LIST OF TOKENS AND RETURNS A STRING OF CONCATENATED TOKENS \n",
    "    out=''\n",
    "    l=len(tokens)\n",
    "    for i in range(l):\n",
    "        out+=tokens[i]\n",
    "        if(i<l-1):\n",
    "            out+=' '\n",
    "    return out\n",
    "\n",
    "def by2(tokens):\n",
    "    out=[]\n",
    "    l=len(tokens)\n",
    "    for i in range(l-1):\n",
    "        out=out+[tokens[i]+' '+tokens[i+1]]\n",
    "    return out\n",
    "def clean(strn):\n",
    "    out=''\n",
    "    for i in strn:\n",
    "        if acc(i):\n",
    "            out+=i\n",
    "        else:\n",
    "            out+=' '\n",
    "    return out\n",
    "def acc(letter):\n",
    "    if ord(letter) in range(48,58)+range(65,91)+range(97,123)+[35,36,37,38,64]:\n",
    "        return True\n",
    "    else:\n",
    "        return False\n",
    "def s2f(strn):\n",
    "    sl=strn.lower()\n",
    "    slc=clean(sl) \n",
    "    parts=slc.split()\n",
    "    tokens=remove_stopwords(parts)\n",
    "    features=tokens+[assemble(tokens)]+by2(tokens)\n",
    "    return features"
   ]
  },
  {
   "cell_type": "code",
   "execution_count": 9,
   "metadata": {},
   "outputs": [
    {
     "data": {
      "text/plain": [
       "['god', 'great', 'god great', 'god great']"
      ]
     },
     "execution_count": 9,
     "metadata": {},
     "output_type": "execute_result"
    }
   ],
   "source": [
    "d = 'God is great'\n",
    "s2f(d)"
   ]
  },
  {
   "cell_type": "code",
   "execution_count": 10,
   "metadata": {},
   "outputs": [],
   "source": [
    "feature_str1 = s2f(str1)\n",
    "feature_str2 = s2f(str2)\n",
    "feature_str3 = s2f(str3)\n",
    "feature_query = s2f(query)"
   ]
  },
  {
   "cell_type": "code",
   "execution_count": 11,
   "metadata": {},
   "outputs": [
    {
     "name": "stdout",
     "output_type": "stream",
     "text": [
      "['science', 'science']\n",
      "['electrical', 'engineering', 'electrical engineering', 'electrical engineering']\n",
      "['mechanical', 'engineering', 'mechanical engineering', 'mechanical engineering']\n",
      "['chemical', 'engineering', 'chemical engineering', 'chemical engineering']\n"
     ]
    }
   ],
   "source": [
    "print feature_str1\n",
    "print feature_str2\n",
    "print feature_str3\n",
    "print feature_query"
   ]
  },
  {
   "cell_type": "code",
   "execution_count": 12,
   "metadata": {
    "collapsed": true
   },
   "outputs": [],
   "source": [
    "dictionary = []\n",
    "dictionarycount = []\n",
    "def createEntryDictionary(s,dictionary, dictionarycount):\n",
    "\tdictionary += [s]\n",
    "\treturn dictionary\n",
    "def takeStringAndAppendToDictionary(str1,dictionary, dictionarycount):\n",
    "\tfor s in str1:\n",
    "\t\tfor d in dictionary:\n",
    "\t\t\tif  d == s:\n",
    "\t\t\t\tdictionarycount[dictionary.index(d)] += 1\n",
    "\t\tif s not in dictionary:\n",
    "\t\t\ttmp = createEntryDictionary(s,dictionary, dictionarycount)\n",
    "\t\t\ttmpcount = dictionarycount\n",
    "\t\t\ttmpcount += [1] #create entry of count for the new word\n",
    "\tsearch_params = [tmp, tmpcount]\n",
    "\treturn search_params"
   ]
  },
  {
   "cell_type": "code",
   "execution_count": 13,
   "metadata": {},
   "outputs": [],
   "source": [
    "search_params = takeStringAndAppendToDictionary(feature_str1, dictionary, dictionarycount)"
   ]
  },
  {
   "cell_type": "code",
   "execution_count": 14,
   "metadata": {},
   "outputs": [
    {
     "data": {
      "text/plain": [
       "[['science'], [2]]"
      ]
     },
     "execution_count": 14,
     "metadata": {},
     "output_type": "execute_result"
    }
   ],
   "source": [
    "search_params"
   ]
  },
  {
   "cell_type": "code",
   "execution_count": 15,
   "metadata": {
    "collapsed": true
   },
   "outputs": [],
   "source": [
    "dictionary = search_params[0]\n",
    "dictionarycount = search_params[1]"
   ]
  },
  {
   "cell_type": "code",
   "execution_count": 16,
   "metadata": {},
   "outputs": [
    {
     "data": {
      "text/plain": [
       "['science']"
      ]
     },
     "execution_count": 16,
     "metadata": {},
     "output_type": "execute_result"
    }
   ],
   "source": [
    "dictionary"
   ]
  },
  {
   "cell_type": "code",
   "execution_count": 17,
   "metadata": {},
   "outputs": [
    {
     "data": {
      "text/plain": [
       "[2]"
      ]
     },
     "execution_count": 17,
     "metadata": {},
     "output_type": "execute_result"
    }
   ],
   "source": [
    "dictionarycount"
   ]
  },
  {
   "cell_type": "code",
   "execution_count": 18,
   "metadata": {
    "collapsed": true
   },
   "outputs": [],
   "source": [
    "search_params = takeStringAndAppendToDictionary(feature_str2, dictionary, dictionarycount)\n",
    "dictionary = search_params[0]\n",
    "dictionarycount = search_params[1]"
   ]
  },
  {
   "cell_type": "code",
   "execution_count": 19,
   "metadata": {
    "collapsed": true
   },
   "outputs": [],
   "source": [
    "search_params = takeStringAndAppendToDictionary(feature_str3, dictionary, dictionarycount)\n",
    "dictionary = search_params[0]\n",
    "dictionarycount = search_params[1]\n"
   ]
  },
  {
   "cell_type": "code",
   "execution_count": 20,
   "metadata": {
    "collapsed": true
   },
   "outputs": [],
   "source": [
    "documents = []\n",
    "documents += [feature_str1]\n",
    "documents += [feature_str2]\n",
    "documents += [feature_str3]"
   ]
  },
  {
   "cell_type": "code",
   "execution_count": 21,
   "metadata": {},
   "outputs": [
    {
     "data": {
      "text/plain": [
       "[['science', 'science'],\n",
       " ['electrical',\n",
       "  'engineering',\n",
       "  'electrical engineering',\n",
       "  'electrical engineering'],\n",
       " ['mechanical',\n",
       "  'engineering',\n",
       "  'mechanical engineering',\n",
       "  'mechanical engineering']]"
      ]
     },
     "execution_count": 21,
     "metadata": {},
     "output_type": "execute_result"
    }
   ],
   "source": [
    "documents"
   ]
  },
  {
   "cell_type": "code",
   "execution_count": 22,
   "metadata": {
    "collapsed": true
   },
   "outputs": [],
   "source": [
    "def frequencyOfWordInDictionary(word, dictionary, dictionarycount):\n",
    "\tif word in dictionary:\n",
    "\t\treturn dictionarycount[dictionary.index(word)]\n",
    "\telse:\n",
    "\t\treturn 0\n",
    "def tf(query):\n",
    "\ttmp = []\n",
    "\tfor d in dictionary:\n",
    "\t\tfor s in query:\n",
    "\t\t\tif d == s:\n",
    "\t\t\t\ttmp += [frequencyOfWordInDictionary(s,dictionary, dictionarycount)]\n",
    "\t\t\t\tbreak\n",
    "\t\tif d not in query:\n",
    "\t\t\ttmp += [0]\n",
    "\treturn tmp"
   ]
  },
  {
   "cell_type": "code",
   "execution_count": 23,
   "metadata": {},
   "outputs": [],
   "source": [
    "C1 = tf(feature_str1)\n",
    "C2 = tf(feature_str2)\n",
    "C3 = tf(feature_str3)"
   ]
  },
  {
   "cell_type": "code",
   "execution_count": 24,
   "metadata": {},
   "outputs": [
    {
     "name": "stdout",
     "output_type": "stream",
     "text": [
      "[2, 0, 0, 0, 0, 0]\n",
      "[0, 1, 2, 2, 0, 0]\n",
      "[0, 0, 2, 0, 1, 2]\n",
      "['science', 'electrical', 'engineering', 'electrical engineering', 'mechanical', 'mechanical engineering']\n"
     ]
    }
   ],
   "source": [
    "print C1\n",
    "print C2\n",
    "print C3\n",
    "print dictionary"
   ]
  },
  {
   "cell_type": "code",
   "execution_count": 25,
   "metadata": {
    "collapsed": true
   },
   "outputs": [],
   "source": [
    "def whetherWordContainedInDocument(word, document):\n",
    "\tif word not in document:\n",
    "\t\treturn False\n",
    "\telse:\n",
    "\t\treturn True\n",
    "\n",
    "def countNoOfDocumentsWordIsContainedIn(word, documents):\n",
    "\tcount = 0\n",
    "\tfor document in documents:\n",
    "\t\tif whetherWordContainedInDocument(word, document):\n",
    "\t\t\tcount += 1\n",
    "\treturn count\n",
    "def tfidf(query, documents):\n",
    "\ttmp = []\n",
    "\tfor d in dictionary:\n",
    "\t\tfor s in query:\t\n",
    "\t\t\tif s == d:\n",
    "\t\t\t\ttmp += [frequencyOfWordInDictionary(s,dictionary, dictionarycount) * (len(documents)/countNoOfDocumentsWordIsContainedIn(s,documents))]\n",
    "\t\t\t\tbreak\n",
    "\t\tif d not in query:\n",
    "\t\t\ttmp += [0]\n",
    "\treturn tmp"
   ]
  },
  {
   "cell_type": "code",
   "execution_count": 26,
   "metadata": {},
   "outputs": [],
   "source": [
    "D1 = tfidf(feature_str1, documents)\n",
    "D2 = tfidf(feature_str2, documents)\n",
    "D3 = tfidf(feature_str3, documents)\n",
    "Query = tfidf(feature_query, documents)"
   ]
  },
  {
   "cell_type": "code",
   "execution_count": 27,
   "metadata": {},
   "outputs": [
    {
     "name": "stdout",
     "output_type": "stream",
     "text": [
      "[6, 0, 0, 0, 0, 0]\n",
      "[0, 3, 2, 6, 0, 0]\n",
      "[0, 0, 2, 0, 3, 6]\n",
      "[0, 0, 2, 0, 0, 0]\n"
     ]
    }
   ],
   "source": [
    "print D1\n",
    "print D2\n",
    "print D3\n",
    "print Query"
   ]
  },
  {
   "cell_type": "code",
   "execution_count": 28,
   "metadata": {
    "collapsed": true
   },
   "outputs": [],
   "source": [
    "D = []\n",
    "D += [D1]\n",
    "D += [D2]\n",
    "D += [D3]"
   ]
  },
  {
   "cell_type": "code",
   "execution_count": 29,
   "metadata": {},
   "outputs": [
    {
     "data": {
      "text/plain": [
       "[[6, 0, 0, 0, 0, 0], [0, 3, 2, 6, 0, 0], [0, 0, 2, 0, 3, 6]]"
      ]
     },
     "execution_count": 29,
     "metadata": {},
     "output_type": "execute_result"
    }
   ],
   "source": [
    "D"
   ]
  },
  {
   "cell_type": "code",
   "execution_count": 30,
   "metadata": {
    "collapsed": true
   },
   "outputs": [],
   "source": [
    "def query_score(q,D):\n",
    "\tscore = []\n",
    "\tfor d in D:\n",
    "\t\t#Compute dot product\n",
    " \t\tdotproduct = 0\n",
    "\t\tfor i in range(0,len(d)):\n",
    "\t\t\tdotproduct += q[i] * d[i] \n",
    "\t\tscore += [dotproduct]\n",
    "\treturn score\n",
    "def vec_norm(vector):\n",
    "\ttmp = 0\n",
    "\tfor v in vector:\n",
    "\t\ttmp += v ** 2\n",
    "\ttmp = tmp ** 0.5\n",
    "\tif tmp == 0.0:\n",
    "\t\ttmp = 1\n",
    "\tnorm=[(f/tmp) for f in vector]\n",
    "\treturn norm"
   ]
  },
  {
   "cell_type": "code",
   "execution_count": 31,
   "metadata": {},
   "outputs": [],
   "source": [
    "scores = query_score(Query, D)\n",
    "normalized_score = vec_norm(scores)"
   ]
  },
  {
   "cell_type": "code",
   "execution_count": 32,
   "metadata": {},
   "outputs": [
    {
     "data": {
      "text/plain": [
       "[0, 4, 4]"
      ]
     },
     "execution_count": 32,
     "metadata": {},
     "output_type": "execute_result"
    }
   ],
   "source": [
    "scores"
   ]
  },
  {
   "cell_type": "code",
   "execution_count": 33,
   "metadata": {},
   "outputs": [
    {
     "data": {
      "text/plain": [
       "[0.0, 0.7071067811865475, 0.7071067811865475]"
      ]
     },
     "execution_count": 33,
     "metadata": {},
     "output_type": "execute_result"
    }
   ],
   "source": [
    "normalized_score"
   ]
  },
  {
   "cell_type": "code",
   "execution_count": 34,
   "metadata": {},
   "outputs": [
    {
     "name": "stdout",
     "output_type": "stream",
     "text": [
      "This is Computer Science\n",
      "This is Electrical Engineering\n",
      "This is Mechanical Engineering\n"
     ]
    }
   ],
   "source": [
    "print str1\n",
    "print str2\n",
    "print str3\n"
   ]
  },
  {
   "cell_type": "code",
   "execution_count": 35,
   "metadata": {},
   "outputs": [
    {
     "name": "stdout",
     "output_type": "stream",
     "text": [
      "['science', 'science']\n",
      "['electrical', 'engineering', 'electrical engineering', 'electrical engineering']\n",
      "['mechanical', 'engineering', 'mechanical engineering', 'mechanical engineering']\n"
     ]
    }
   ],
   "source": [
    "print feature_str1\n",
    "print feature_str2\n",
    "print feature_str3"
   ]
  },
  {
   "cell_type": "code",
   "execution_count": 36,
   "metadata": {},
   "outputs": [
    {
     "name": "stdout",
     "output_type": "stream",
     "text": [
      "['science', 'electrical', 'engineering', 'electrical engineering', 'mechanical', 'mechanical engineering']\n",
      "[2, 1, 2, 2, 1, 2]\n"
     ]
    }
   ],
   "source": [
    "print dictionary\n",
    "print dictionarycount"
   ]
  },
  {
   "cell_type": "code",
   "execution_count": 37,
   "metadata": {},
   "outputs": [
    {
     "name": "stdout",
     "output_type": "stream",
     "text": [
      "[2, 0, 0, 0, 0, 0]\n",
      "[0, 1, 2, 2, 0, 0]\n",
      "[0, 0, 2, 0, 1, 2]\n",
      "[6, 0, 0, 0, 0, 0]\n",
      "[0, 3, 2, 6, 0, 0]\n",
      "[0, 0, 2, 0, 3, 6]\n",
      "[0, 0, 2, 0, 0, 0]\n",
      "[[6, 0, 0, 0, 0, 0], [0, 3, 2, 6, 0, 0], [0, 0, 2, 0, 3, 6]]\n",
      "score=[0, 4, 4]\n",
      "score normalized=[0.0, 0.7071067811865475, 0.7071067811865475]\n"
     ]
    }
   ],
   "source": [
    "print C1\n",
    "print C2\n",
    "print C3\n",
    "print D1\n",
    "print D2\n",
    "print D3\n",
    "print Query\n",
    "print D\n",
    "print \"score=%s\"%(scores)\n",
    "print \"score normalized=%s\"%(normalized_score)\n"
   ]
  },
  {
   "cell_type": "code",
   "execution_count": null,
   "metadata": {
    "collapsed": true
   },
   "outputs": [],
   "source": []
  }
 ],
 "metadata": {
  "kernelspec": {
   "display_name": "Python 2",
   "language": "python",
   "name": "python2"
  },
  "language_info": {
   "codemirror_mode": {
    "name": "ipython",
    "version": 2
   },
   "file_extension": ".py",
   "mimetype": "text/x-python",
   "name": "python",
   "nbconvert_exporter": "python",
   "pygments_lexer": "ipython2",
   "version": "2.7.14"
  }
 },
 "nbformat": 4,
 "nbformat_minor": 2
}
